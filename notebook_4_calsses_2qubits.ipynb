{
 "cells": [
  {
   "cell_type": "code",
   "execution_count": 1,
   "metadata": {},
   "outputs": [],
   "source": [
    "import numpy as np\n",
    "import qiskit\n",
    "import matplotlib.pyplot as plt\n",
    "%matplotlib inline\n",
    "from matplotlib import cm\n",
    "import matplotlib as mpl\n",
    "import itertools"
   ]
  },
  {
   "cell_type": "code",
   "execution_count": 2,
   "metadata": {},
   "outputs": [],
   "source": [
    "from qiskit import QuantumCircuit, QuantumRegister, ClassicalRegister\n",
    "from qiskit import Aer, execute\n",
    "from qiskit.providers.aer import QasmSimulator, StatevectorSimulator, UnitarySimulator"
   ]
  },
  {
   "cell_type": "code",
   "execution_count": 3,
   "metadata": {},
   "outputs": [],
   "source": [
    "def squares_data(X):\n",
    "    Y = np.empty(len(X))\n",
    "    for i,x in enumerate(X):\n",
    "        if x[0] > 0 and x[1] > 0: Y[i] = 0\n",
    "        elif x[0] > 0 and x[1] < 0: Y[i] = 1\n",
    "        elif x[0] < 0 and x[1] > 0: Y[i] = 2\n",
    "        else: Y[i] = 3\n",
    "            \n",
    "    return (X, Y)"
   ]
  },
  {
   "cell_type": "code",
   "execution_count": 4,
   "metadata": {},
   "outputs": [],
   "source": [
    "grid = 10\n",
    "grid = 10\n",
    "x = np.linspace(-.9,.9,grid)\n",
    "X = list(itertools.product(x, x))\n",
    "X = np.asfarray(X)\n",
    "Data = squares_data(X)"
   ]
  },
  {
   "cell_type": "code",
   "execution_count": 5,
   "metadata": {},
   "outputs": [],
   "source": [
    "def draw_squares(Data, colorbar=False):\n",
    "    X = Data[0]\n",
    "    Y = Data[1]\n",
    "    cmap = cm.get_cmap('brg')\n",
    "    norm = mpl.colors.Normalize(vmin=0,vmax=3)\n",
    "    fig, ax = plt.subplots()\n",
    "    c=ax.scatter(X[:, 0], X[:, 1], c=Y, cmap=cmap, norm = norm)\n",
    "    ax.plot([0,0], [-1,1], color='black')\n",
    "    ax.plot([-1,1], [0,0], color='black')\n",
    "    ax.set(xlim=[-1,1], ylim=[-1,1])\n",
    "    ax.set_aspect('equal', 'box')\n",
    "    if colorbar:\n",
    "        fig.colorbar(c, ax = ax)\n",
    "    return fig"
   ]
  },
  {
   "cell_type": "code",
   "execution_count": 6,
   "metadata": {},
   "outputs": [
    {
     "data": {
      "image/png": "[encoded data removed]",
      "text/plain": [
       "<Figure size 432x288 with 1 Axes>"
      ]
     },
     "metadata": {
      "needs_background": "light"
     },
     "output_type": "display_data"
    }
   ],
   "source": [
    "fig=draw_squares(Data)"
   ]
  },
  {
   "cell_type": "code",
   "execution_count": 7,
   "metadata": {},
   "outputs": [],
   "source": [
    "def measurement_squares_2q(x, y, parameters, device):\n",
    "    if len(parameters) % 10 != 0:\n",
    "        raise ValueError('The number of parameters is not correct')\n",
    "    qubits = 2\n",
    "    layers = len(parameters) // 5 // 2\n",
    "    parameters = parameters.reshape(qubits, layers, 5)\n",
    "    C = QuantumCircuit(5,1)\n",
    "    if y == 1:\n",
    "        C.x(2)\n",
    "    elif y == 2:\n",
    "        C.x(3)\n",
    "    elif y == 3:\n",
    "        C.x(2)\n",
    "        C.x(3)\n",
    "\n",
    "    C.h(4)\n",
    "    for l in range(layers - 1):\n",
    "        for q in range(qubits):\n",
    "            C.u3(parameters[q,l,0] * x[0] + parameters[q,l, 1],\n",
    "                 parameters[q,l, 2] * x[1] + parameters[q,l, 3],\n",
    "                 parameters[q,l, 4], q)\n",
    "        C.cx(0,1)\n",
    "    for q in range(qubits):\n",
    "        C.u3(parameters[q,-1,0] * x[0] + parameters[q,-1, 1],\n",
    "                 parameters[q,-1, 2] * x[1] + parameters[q,-1, 3],\n",
    "                 parameters[q,-1, 4], q)\n",
    "\n",
    "    C.cswap(4, 0, 2)\n",
    "    C.cswap(4, 1, 3)\n",
    "    C.h(4)\n",
    "\n",
    "    C.measure(4,0)\n",
    "    C.draw()\n",
    "    # Select the QasmSimulator from the Aer provider,\n",
    "    \n",
    "    try:\n",
    "        backend = Aer.get_backend(device)\n",
    "    except:\n",
    "        provider = IBMQ.get_provider()#hub='ibm-q')\n",
    "        backend=provider.get_backend(dev)\n",
    "\n",
    "    # Execute and get counts,\n",
    "    sh = 1024\n",
    "    result = execute(C, backend, shots=sh).result()\n",
    "    counts = result.get_counts(C)\n",
    "    fidelity = 2 * counts['0'] / sh - 1\n",
    "    return fidelity\n",
    "    \n",
    "\n",
    "def check_squares_2q(x, parameters, device):\n",
    "    Fidelities = np.zeros(4)\n",
    "    for y in range(4):\n",
    "        Fidelities[y] = measurement_squares_2q(x, y, parameters, device)\n",
    "        \n",
    "    return Fidelities"
   ]
  },
  {
   "cell_type": "code",
   "execution_count": 8,
   "metadata": {},
   "outputs": [],
   "source": [
    "def cost_function_squares_2q(parameters, X, Y, device):\n",
    "        chi2 = 0\n",
    "        for x, y in zip(X, Y):\n",
    "            chi2 += (1 - measurement_squares_2q(x, y, parameters, device))**2\n",
    "            \n",
    "        return chi2 / len(Y)"
   ]
  },
  {
   "cell_type": "code",
   "execution_count": 9,
   "metadata": {},
   "outputs": [],
   "source": [
    "dev = 'qasm_simulator'"
   ]
  },
  {
   "cell_type": "code",
   "execution_count": null,
   "metadata": {},
   "outputs": [],
   "source": [
    "layers=2\n",
    "from scipy.optimize import minimize\n",
    "parameters = np.random.rand(5*2*layers)\n",
    "\n",
    "solution2 = minimize(cost_function_squares_2q,parameters, args=(Data[0], Data[1], dev), method='Powell')\n",
    "solution2"
   ]
  },
  {
   "cell_type": "code",
   "execution_count": 10,
   "metadata": {},
   "outputs": [],
   "source": [
    "layers=2\n",
    "sol2=np.array([ 4.45129067e+00, -1.56875684e+00,  2.01933558e+00,  1.77740136e-01,\n",
    "        8.78500962e-01,  1.79047190e+00, -1.76865802e-01,  1.57838726e+00,\n",
    "        6.54460664e+00,  6.83160045e+00,  2.39327399e+00,  8.27917274e-03,\n",
    "        1.47120756e-01,  3.70576157e-01, -1.02111974e+01, -2.68658232e-01,\n",
    "       -1.15105832e+00, -2.31561508e-02,  9.81351719e+00, -1.34449687e+01])"
   ]
  },
  {
   "cell_type": "code",
   "execution_count": null,
   "metadata": {},
   "outputs": [],
   "source": [
    "layers=3\n",
    "from scipy.optimize import minimize\n",
    "parameters = np.random.rand(5*2*layers)\n",
    "\n",
    "solution3 = minimize(cost_function_squares_2q,parameters, args=(Data[0], Data[1], dev), method='Powell')\n",
    "solution3"
   ]
  },
  {
   "cell_type": "code",
   "execution_count": 11,
   "metadata": {},
   "outputs": [],
   "source": [
    "layers=3\n",
    "sol3=np.array([ 0.06607868, -1.47318115,  0.99179411,  0.0186335 , -1.54075934,\n",
    "       -3.01268191,  1.32373749,  0.0093197 , -1.4604332 ,  3.10745051,\n",
    "       -2.55232083, -0.25882256,  1.33968079, -2.80508489,  1.07697963,\n",
    "        0.54669349,  0.75734084, -2.21788686,  1.57259574, -0.57289583,\n",
    "        0.35731731,  0.44065143,  1.27718811,  0.22387249,  5.74286817,\n",
    "        0.93791628,  0.12577838, -0.02754623, -0.42773836,  4.87704546])"
   ]
  },
  {
   "cell_type": "code",
   "execution_count": null,
   "metadata": {},
   "outputs": [],
   "source": [
    "layers=4\n",
    "from scipy.optimize import minimize\n",
    "parameters = np.random.rand(5*2*layers)\n",
    "\n",
    "solution4 = minimize(cost_function_squares_2q,parameters, args=(Data[0], Data[1], dev), method='Powell')\n",
    "solution4"
   ]
  },
  {
   "cell_type": "code",
   "execution_count": 12,
   "metadata": {},
   "outputs": [],
   "source": [
    "layers=4\n",
    "sol4=np.array([ 3.1898398 , -0.37025668, -1.73674639,  0.84073677,  1.15224075,\n",
    "       -1.36204783,  1.07326992,  1.5908699 , -0.35888521,  4.52392772,\n",
    "        0.45898233,  1.43217251,  1.63209173,  0.11613165,  4.04809762,\n",
    "        2.04014856,  0.37932187,  0.89549906,  2.08417428, -0.53604735,\n",
    "       -0.57343669, -0.22951699,  0.60406831, -2.51368728,  6.62893304,\n",
    "        0.13499539,  1.45433562, -0.37528303, -0.21841795, -5.37530558,\n",
    "       -0.04217691, -0.13016771,  0.65035978,  0.0128586 ,  3.03076242,\n",
    "        0.55152724, -0.4460519 ,  0.02672925,  0.43853393,  0.94828499])"
   ]
  },
  {
   "cell_type": "code",
   "execution_count": null,
   "metadata": {},
   "outputs": [],
   "source": [
    "layers=5\n",
    "from scipy.optimize import minimize\n",
    "parameters = np.random.rand(5*2*layers)\n",
    "\n",
    "solution5 = minimize(cost_function_squares_2q,parameters, args=(Data[0], Data[1], dev), method='Powell')\n",
    "solution5"
   ]
  },
  {
   "cell_type": "code",
   "execution_count": 13,
   "metadata": {},
   "outputs": [],
   "source": [
    "layers=5\n",
    "sol5=np.array([ 8.28873173e-01,  5.88256808e-01,  2.22790220e+00, -2.13979916e-01,\n",
    "       -4.16913127e-01, -1.94147125e+00,  9.26795999e-01,  6.09683748e-01,\n",
    "        1.40645880e-01,  1.56835179e+01,  1.67211776e+00,  4.30853872e-01,\n",
    "        4.02343415e-01, -1.53428227e-01,  4.35068647e+00,  8.07221883e-01,\n",
    "        2.47212258e-01,  9.35398337e-01, -5.05220821e-01,  3.94402119e+00,\n",
    "       -4.07666813e-01,  1.36728158e+00,  9.98978477e-01, -5.44535629e+01,\n",
    "        1.17085417e+01, -6.06856233e-01,  2.73826664e-01, -3.53898263e-01,\n",
    "        1.11934070e+00, -3.41848180e-01,  1.25177133e-02,  4.76414413e-01,\n",
    "       -3.75213923e-01, -4.36393734e-01,  5.44883302e+01, -1.23180096e+00,\n",
    "        1.10944978e+00,  7.28155127e-01,  3.98446907e-01,  6.03413819e+00,\n",
    "        4.90540125e-02,  2.69410376e-01, -3.18790950e-01,  6.67271477e-01,\n",
    "        2.41327405e+00,  3.46193861e-01, -7.06961704e-01,  4.32356569e-01,\n",
    "        1.00982334e+00,  3.33594588e+00])"
   ]
  },
  {
   "cell_type": "code",
   "execution_count": 17,
   "metadata": {},
   "outputs": [],
   "source": [
    "layers=2\n",
    "optimal_parameters=sol2"
   ]
  },
  {
   "cell_type": "code",
   "execution_count": 18,
   "metadata": {},
   "outputs": [],
   "source": [
    "#grid\n",
    "\n",
    "grid = 10\n",
    "x = np.linspace(-.9,.9,grid)\n",
    "X = list(itertools.product(x, x))\n",
    "X = np.asfarray(X)\n",
    "F = np.empty((len(X), 4))\n",
    "for i, x in enumerate(X):\n",
    "    fid = check_squares_2q(x, optimal_parameters, dev)\n",
    "    F[i] = fid\n"
   ]
  },
  {
   "cell_type": "code",
   "execution_count": 19,
   "metadata": {},
   "outputs": [
    {
     "data": {
      "image/png": "[encoded data removed]",
      "text/plain": [
       "<Figure size 432x288 with 1 Axes>"
      ]
     },
     "metadata": {
      "needs_background": "light"
     },
     "output_type": "display_data"
    }
   ],
   "source": [
    "Z = np.argmax(F, axis=1)\n",
    "fig=draw_squares((X, Z))\n"
   ]
  },
  {
   "cell_type": "code",
   "execution_count": 20,
   "metadata": {},
   "outputs": [
    {
     "data": {
      "image/png": "[encoded data removed]",
      "text/plain": [
       "<Figure size 432x288 with 1 Axes>"
      ]
     },
     "metadata": {
      "needs_background": "light"
     },
     "output_type": "display_data"
    }
   ],
   "source": [
    "test = 100\n",
    "X = 1.9 * np.random.rand(test, 2) - 1\n",
    "Z = np.empty(test)\n",
    "for i, x in enumerate(X):\n",
    "    Z[i] = np.argmax(check_squares_2q(x, optimal_parameters, dev))\n",
    "    \n",
    "fig=draw_squares((X, Z), colorbar=False)\n"
   ]
  },
  {
   "cell_type": "code",
   "execution_count": null,
   "metadata": {},
   "outputs": [],
   "source": [
    "from qiskit import IBMQ\n",
    "IBMQ.load_account()\n",
    "dev='ibmq_vigo'"
   ]
  },
  {
   "cell_type": "code",
   "execution_count": null,
   "metadata": {},
   "outputs": [],
   "source": [
    "from qiskit import IBMQ\n",
    "dev='ibmq_vigo'\n",
    "def measurement_4classes_1qubitQ(x, y, parameters, device):\n",
    "    if len(parameters) % 5 != 0:\n",
    "        raise ValueError('The number of parameters is not correct')\n",
    "    layers = len(parameters) // 5\n",
    "    parameters = parameters.reshape(layers, 5)\n",
    "    C = QuantumCircuit(3,1)\n",
    "    theta = 2 * np.arccos(1/np.sqrt(3))\n",
    "    if y == 1:\n",
    "        C.u3(theta, 0, 0, 1)\n",
    "    elif y == 2:\n",
    "        C.u3(theta, 2 * np.pi / 3, 0, 1)\n",
    "    elif y == 3:\n",
    "        C.u3(theta, -2 * np.pi / 3, 0, 1)\n",
    "\n",
    "    C.h(2)\n",
    "    for l in range(layers):\n",
    "        C.u3(parameters[l,0] * x[0] + parameters[l, 1], parameters[l, 2] * x[1] + parameters[l, 3], parameters[l, 2], 0)\n",
    "\n",
    "    C.cswap(2, 0, 1)\n",
    "    C.h(2)\n",
    "\n",
    "    C.measure([2], [0])\n",
    "    C.draw()\n",
    "    provider = IBMQ.get_provider(hub='ibm-q')\n",
    "    backend=provider.get_backend(device)\n",
    "\n",
    "    # Execute and get counts\n",
    "    sh = 1024\n",
    "    result = execute(C, backend, shots=sh).result()\n",
    "    counts = result.get_counts(C)\n",
    "    fidelity = 2 * counts['0'] / sh - 1\n",
    "    return fidelity\n",
    "\n",
    "\n",
    "def measurement_checkQ(x, parameters, device):\n",
    "    fidelities = np.empty(4)\n",
    "    for _ in range(4):\n",
    "        fidelities[_]=measurement_4classes_1qubitQ(x, _, parameters, device)\n",
    "        \n",
    "    return np.argmax(fidelities)"
   ]
  },
  {
   "cell_type": "code",
   "execution_count": null,
   "metadata": {},
   "outputs": [],
   "source": [
    "test = 50\n",
    "X = 1.9 * np.random.rand(test, 2) - 1\n",
    "Fq = np.empty((test, 4))\n",
    "\n",
    "for i, x in enumerate(X):\n",
    "    F[i] = measurement_checkQ([x[0], x[1]], optimal_parameters, dev)\n",
    "    \n",
    "fig=draw_squares((X, F), colorbar=False)"
   ]
  },
  {
   "cell_type": "code",
   "execution_count": null,
   "metadata": {},
   "outputs": [],
   "source": [
    "from qiskit.visualization import plot_bloch_vector\n",
    "psi0=[0,0,1]\n",
    "psi1=[0,np.sqrt(2/3),-1/np.sqrt(3)]\n",
    "psi2=[1/np.sqrt(2),-np.sqrt(1/6),-1/np.sqrt(3)]\n",
    "psi3=[-1/np.sqrt(2),-np.sqrt(1/6),-1/np.sqrt(3)]\n",
    "plot_bloch_vector([psi3, psi2, psi1, psi0], title=\"My Bloch Sphere\")"
   ]
  },
  {
   "cell_type": "code",
   "execution_count": null,
   "metadata": {},
   "outputs": [],
   "source": [
    "help(plot_bloch_vector)"
   ]
  },
  {
   "cell_type": "code",
   "execution_count": null,
   "metadata": {},
   "outputs": [],
   "source": [
    "from qiskit.visualization.interactive import iplot_bloch_multivector\n",
    "psi0=np.array([1,0])\n",
    "psi1=1/np.sqrt(2)*np.array([1,1])\n",
    "iplot_bloch_multivector(psi0)\n",
    "iplot_bloch_multivector(psi1)"
   ]
  },
  {
   "cell_type": "code",
   "execution_count": null,
   "metadata": {},
   "outputs": [],
   "source": []
  }
 ],
 "metadata": {
  "kernelspec": {
   "display_name": "Python 3",
   "language": "python",
   "name": "python3"
  },
  "language_info": {
   "codemirror_mode": {
    "name": "ipython",
    "version": 3
   },
   "file_extension": ".py",
   "mimetype": "text/x-python",
   "name": "python",
   "nbconvert_exporter": "python",
   "pygments_lexer": "ipython3",
   "version": "3.7.3"
  }
 },
 "nbformat": 4,
 "nbformat_minor": 2
}
