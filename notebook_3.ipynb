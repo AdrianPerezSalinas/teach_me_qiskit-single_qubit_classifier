{
 "cells": [
  {
   "cell_type": "code",
   "execution_count": 3,
   "metadata": {},
   "outputs": [],
   "source": [
    "import numpy as np\n",
    "import qiskit\n",
    "import matplotlib.pyplot as plt\n",
    "%matplotlib inline\n",
    "from matplotlib import cm\n",
    "import matplotlib as mpl"
   ]
  },
  {
   "cell_type": "code",
   "execution_count": null,
   "metadata": {},
   "outputs": [],
   "source": []
  },
  {
   "cell_type": "code",
   "execution_count": 5,
   "metadata": {},
   "outputs": [],
   "source": [
    "n = 100\n",
    "pi = np.pi\n",
    "radius = np.sqrt(2 / pi)\n",
    "X = 1.9 * np.random.rand(n, 2) - 1\n",
    "Y = np.empty(n)\n",
    "for i,x in enumerate(X):\n",
    "    if x[0] > 0 and x[1] > 0: Y[i] = 0\n",
    "    elif x[0] > 0 and x[1] < 0: Y[i] = 1\n",
    "    elif x[0] < 0 and x[1] > 0: Y[i] = 2\n",
    "    else: Y[i] = 3"
   ]
  },
  {
   "cell_type": "code",
   "execution_count": 6,
   "metadata": {},
   "outputs": [
    {
     "data": {
      "image/png": "[encoded data removed]",
      "text/plain": [
       "<Figure size 432x288 with 1 Axes>"
      ]
     },
     "metadata": {
      "needs_background": "light"
     },
     "output_type": "display_data"
    }
   ],
   "source": [
    "cmap = cm.get_cmap('jet')\n",
    "fig, ax = plt.subplots()\n",
    "\n",
    "ax.scatter(X[:, 0], X[:, 1], c=Y, cmap=cmap)\n",
    "ax.plot([0,0], [-1,1], color='black')\n",
    "ax.plot([-1,1], [0,0], color='black')\n",
    "ax.set(xlim=[-1,1], ylim=[-1,1])\n",
    "ax.set_aspect('equal', 'box')\n",
    "plt.show()"
   ]
  },
  {
   "cell_type": "code",
   "execution_count": null,
   "metadata": {},
   "outputs": [],
   "source": []
  },
  {
   "cell_type": "code",
   "execution_count": 1,
   "metadata": {},
   "outputs": [],
   "source": [
    "def measurement_4classes_2qubit(x, y, parameters, device):\n",
    "    if len(parameters) % 10 != 0:\n",
    "        raise ValueError('The number of parameters is not correct')\n",
    "        layers = len(parameters) // 5 // 2\n",
    "        qubits = 2\n",
    "        parameters = parameters.reshape(qubits, layers, 5)\n",
    "        C = QuantumCircuit(5,1)\n",
    "        theta = 2 * np.arccos(1/np.sqrt(3))\n",
    "        if y == 1:\n",
    "            C.x(2)\n",
    "        elif y == 2:\n",
    "            C.x(3)\n",
    "        elif y == 3:\n",
    "            C.x(2)\n",
    "            C.x(3)\n",
    "    \n",
    "        C.h(4)\n",
    "        for l in range(layers - 1):\n",
    "            for q in range(qubits):\n",
    "                C.u3(parameters[q,l,0] * x[0] + parameters[q,l, 1],\n",
    "                     parameters[q,l, 2] * x[1] + parameters[q,l, 3],\n",
    "                     parameters[q,l, 2], q)\n",
    "            C.cx(0,1)\n",
    "        for q in range(qubits):\n",
    "            C.u3(parameters[q,-1,0] * x[0] + parameters[q,-1, 1],\n",
    "                     parameters[q,-1, 2] * x[1] + parameters[q,-1, 3],\n",
    "                     parameters[q,-1, 2], q)\n",
    "            \n",
    "        C.cswap(4, 0, 2)\n",
    "        C.cswap(4, 1, 3)\n",
    "        C.h(4)\n",
    "            \n",
    "        C.measure([2], [0])\n",
    "        C.draw()\n",
    "        # Select the QasmSimulator from the Aer provider,\n",
    "        simulator = Aer.get_backend(device)\n",
    "    \n",
    "        # Execute and get counts,\n",
    "        sh = 1024\n",
    "        result = execute(C, simulator, shots=sh).result()\n",
    "        counts = result.get_counts(C)\n",
    "        fidelity = 2 * counts['0'] / sh - 1\n",
    "        return fidelity"
   ]
  },
  {
   "cell_type": "code",
   "execution_count": 2,
   "metadata": {},
   "outputs": [],
   "source": [
    "def cost_function_4classes_2qubit(parameters, X, Y, device):\n",
    "        chi2 = 0\n",
    "        for x, y in zip(X, Y):\n",
    "            chi2 += (1 - measurement_4classes_2qubit(x, y, parameters, device))**2\n",
    "            \n",
    "        return chi2 / len(Y)"
   ]
  },
  {
   "cell_type": "code",
   "execution_count": null,
   "metadata": {},
   "outputs": [],
   "source": [
    "layers=2\n",
    "from scipy.optimize import minimize\n",
    "parameters = np.random.rand(5*layers)\n",
    "\n",
    "solution = minimize(cost_function_4classes_1qubit,parameters, args=(X, Y, dev), method='Powell')\n",
    "\n",
    "solution"
   ]
  }
 ],
 "metadata": {
  "kernelspec": {
   "display_name": "Python 3",
   "language": "python",
   "name": "python3"
  },
  "language_info": {
   "codemirror_mode": {
    "name": "ipython",
    "version": 3
   },
   "file_extension": ".py",
   "mimetype": "text/x-python",
   "name": "python",
   "nbconvert_exporter": "python",
   "pygments_lexer": "ipython3",
   "version": "3.7.3"
  }
 },
 "nbformat": 4,
 "nbformat_minor": 2
}
